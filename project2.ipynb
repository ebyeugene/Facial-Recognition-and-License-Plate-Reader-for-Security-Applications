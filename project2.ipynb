{
 "cells": [
  {
   "cell_type": "markdown",
   "metadata": {},
   "source": [
    "The main objective of this project is to recognize a person from a given image or video and to detect the number plate of the vehicle he is driving thereby reading the number plate"
   ]
  },
  {
   "cell_type": "code",
   "execution_count": 1,
   "metadata": {},
   "outputs": [],
   "source": [
    "import cv2\n",
    "import pytesseract\n",
    "import os\n",
    "import numpy as np"
   ]
  },
  {
   "cell_type": "markdown",
   "metadata": {},
   "source": [
    "Importing the packages required"
   ]
  },
  {
   "cell_type": "code",
   "execution_count": 2,
   "metadata": {},
   "outputs": [],
   "source": [
    "pytesseract.pytesseract.tesseract_cmd=r'C:\\Program Files\\Tesseract-OCR\\tesseract.exe'"
   ]
  },
  {
   "cell_type": "markdown",
   "metadata": {},
   "source": [
    "Loading the tesseract file "
   ]
  },
  {
   "cell_type": "code",
   "execution_count": 3,
   "metadata": {},
   "outputs": [],
   "source": [
    "def detect_face(img):\n",
    "    gray=cv2.cvtColor(img,cv2.COLOR_BGR2GRAY)\n",
    "    face_cascade=cv2.CascadeClassifier(r'haarcascade_frontalface_default (1).xml')\n",
    "    face=face_cascade.detectMultiScale(gray,scaleFactor=1.1,minNeighbors=4)\n",
    "    if len(face)==0:\n",
    "        return None,None\n",
    "    x,y,w,h=face[0]\n",
    "    return gray[x:x+w,y:y+h],face[0]"
   ]
  },
  {
   "cell_type": "markdown",
   "metadata": {},
   "source": [
    "Defining function to detect faces in the given image "
   ]
  },
  {
   "cell_type": "code",
   "execution_count": 4,
   "metadata": {},
   "outputs": [],
   "source": [
    "def prepare_training_data(data_folder_path):\n",
    "    image_names=os.listdir(data_folder_path)\n",
    "    faces=[]\n",
    "    labels=[]\n",
    "    for img_name in image_names:\n",
    "        img_path=data_folder_path+'/'+img_name\n",
    "        image=cv2.imread(img_path)\n",
    "        cv2.imshow('training_image',image)\n",
    "        cv2.waitKey(200)\n",
    "\n",
    "        face,rect=detect_face(image)\n",
    "        if face is not None:\n",
    "            faces.append(face)\n",
    "            labels.append(1)\n",
    "\n",
    "\n",
    "\n",
    "    cv2.waitKey(1)\n",
    "    cv2.destroyAllWindows()\n",
    "    return faces,labels"
   ]
  },
  {
   "cell_type": "markdown",
   "metadata": {},
   "source": [
    "Defining a function to prepare the training images and labeling it"
   ]
  },
  {
   "cell_type": "code",
   "execution_count": 5,
   "metadata": {},
   "outputs": [
    {
     "name": "stdout",
     "output_type": "stream",
     "text": [
      "[1, 1, 1, 1, 1, 1, 1, 1, 1, 1, 1, 1, 1, 1, 1, 1]\n"
     ]
    }
   ],
   "source": [
    "path=r'Dulquer'\n",
    "faces,labels=prepare_training_data(path)\n",
    "print(labels)"
   ]
  },
  {
   "cell_type": "markdown",
   "metadata": {},
   "source": [
    "Loading the data folder and calling the function."
   ]
  },
  {
   "cell_type": "code",
   "execution_count": 6,
   "metadata": {},
   "outputs": [],
   "source": [
    "recognizer=cv2.face.LBPHFaceRecognizer_create()"
   ]
  },
  {
   "cell_type": "markdown",
   "metadata": {},
   "source": [
    "Creating object for LBPH(Local Binary Pattern histograms) recognizer"
   ]
  },
  {
   "cell_type": "code",
   "execution_count": 7,
   "metadata": {},
   "outputs": [],
   "source": [
    "recognizer.train(faces,np.array(labels))"
   ]
  },
  {
   "cell_type": "markdown",
   "metadata": {},
   "source": [
    "Training the faces\n"
   ]
  },
  {
   "cell_type": "code",
   "execution_count": 8,
   "metadata": {},
   "outputs": [],
   "source": [
    "face_cascade=cv2.CascadeClassifier(r'haarcascade_frontalface_default (1).xml')"
   ]
  },
  {
   "cell_type": "markdown",
   "metadata": {},
   "source": [
    "Lading the XML file in harcascade classifier "
   ]
  },
  {
   "cell_type": "code",
   "execution_count": 9,
   "metadata": {},
   "outputs": [],
   "source": [
    "def detect_plate(gray,test_img):\n",
    "    plate_cas=cv2.CascadeClassifier(r'D:\\DL projects\\Project1\\haarcascade_russian_plate_number.xml')\n",
    "    plate=plate_cas.detectMultiScale(test_img,minNeighbors=6,scaleFactor=1.2)\n",
    "    for (x,y,w,h) in plate:\n",
    "         cv2.rectangle(test_img,(x,y),(x+w,y+h),(255,0,0),4)\n",
    "         license_plate_coordinates=[]\n",
    "         for i in x,y,w,h:\n",
    "              license_plate_coordinates.append(i)\n",
    "        #  print(license_plate_coordinates)\n",
    "         license_plate_region = test_img[y:y+h, x:x+w]\n",
    "         cv2.imshow('PLATE',license_plate_region)\n",
    "         cv2.waitKey()\n",
    "         cv2.destroyAllWindows()\n",
    "         desired_width, desired_height = 200, 50\n",
    "         preprocessed_license_plate = cv2.resize(license_plate_region, (desired_width, desired_height))\n",
    "         license_plate_text = pytesseract.image_to_string(license_plate_region, config='--psm 9')\n",
    "         print(\"License Plate Text:\", license_plate_text)\n",
    "\n"
   ]
  },
  {
   "cell_type": "markdown",
   "metadata": {},
   "source": [
    "Defining the function to detect the license plate and to read the number plate text."
   ]
  },
  {
   "cell_type": "code",
   "execution_count": 10,
   "metadata": {},
   "outputs": [
    {
     "name": "stdout",
     "output_type": "stream",
     "text": [
      "License Plate Text: MMH 1403\n",
      "\n"
     ]
    }
   ],
   "source": [
    "test_img=cv2.imread(r'D:\\DL projects\\Project1\\bangalore_days_malaylam-movie-posters-cinema-daddy-1.jpg')\n",
    "gray=cv2.cvtColor(test_img,cv2.COLOR_BGR2GRAY)\n",
    "faces=face_cascade.detectMultiScale(gray,scaleFactor=1.1,minNeighbors=2)\n",
    "\n",
    "\n",
    "for (x,y,w,h) in faces:\n",
    "    face_roi = gray[y:y+h, x:x+w]\n",
    "    label,confidence=recognizer.predict(face_roi)\n",
    "    #print(label)\n",
    "    #print(confidence)\n",
    "    threshold=160\n",
    "    if confidence > threshold: \n",
    "            cv2.rectangle(test_img, (x, y), (x+w, y+h), (0, 255, 0), 2)\n",
    "            recognized_name = 'Dulquer'\n",
    "            cv2.putText(test_img, recognized_name, (x-14, y-10), cv2.FONT_HERSHEY_SIMPLEX, 0.9, (0, 255, 0), 2)\n",
    "            cv2.imshow('Predicted',test_img)\n",
    "            cv2.waitKey()\n",
    "            cv2.destroyAllWindows()\n",
    "            detect_plate(gray,test_img)\n",
    "    "
   ]
  },
  {
   "cell_type": "markdown",
   "metadata": {},
   "source": [
    "Loading the image for testing.\n",
    "Detecting the faces. \n",
    "Predicting the faces.\n",
    "Setting a threshold value for confidence\n",
    "If the face is recognized calling the function for detecting the number plate."
   ]
  },
  {
   "cell_type": "markdown",
   "metadata": {},
   "source": [
    "Conclusion:\n",
    "From the training images, the faces are trained. In the testing image, the face is recognized and the number plate of the car is detected and converted to text.It can be applied for detecting a suspect from a road surveillance camera and to track the vehicle details, which he is travelling."
   ]
  }
 ],
 "metadata": {
  "kernelspec": {
   "display_name": "Python 3",
   "language": "python",
   "name": "python3"
  },
  "language_info": {
   "codemirror_mode": {
    "name": "ipython",
    "version": 3
   },
   "file_extension": ".py",
   "mimetype": "text/x-python",
   "name": "python",
   "nbconvert_exporter": "python",
   "pygments_lexer": "ipython3",
   "version": "3.10.0"
  },
  "orig_nbformat": 4
 },
 "nbformat": 4,
 "nbformat_minor": 2
}
